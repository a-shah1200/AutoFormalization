{
  "nbformat": 4,
  "nbformat_minor": 0,
  "metadata": {
    "colab": {
      "provenance": []
    },
    "kernelspec": {
      "name": "python3",
      "display_name": "Python 3"
    },
    "language_info": {
      "name": "python"
    }
  },
  "cells": [
    {
      "cell_type": "code",
      "source": [
        "!unzip /content/miniF2F-main.zip"
      ],
      "metadata": {
        "id": "WqqHs4m6ImUO"
      },
      "execution_count": null,
      "outputs": []
    },
    {
      "cell_type": "code",
      "source": [
        "import os"
      ],
      "metadata": {
        "id": "Bj6yFvMfIwY6"
      },
      "execution_count": 71,
      "outputs": []
    },
    {
      "cell_type": "code",
      "source": [
        "import json"
      ],
      "metadata": {
        "id": "uD9mcsEqJBzr"
      },
      "execution_count": 73,
      "outputs": []
    },
    {
      "cell_type": "code",
      "source": [
        "import re"
      ],
      "metadata": {
        "id": "8CuZNKf7sRNn"
      },
      "execution_count": null,
      "outputs": []
    },
    {
      "cell_type": "code",
      "execution_count": 63,
      "metadata": {
        "id": "jotUGANuxlkf"
      },
      "outputs": [],
      "source": [
        "\"\"\"# Code taken from https://huggingface.co/datasets/wellecks/minif2f_isabelle/blob/main/minif2f_isabelle.py\n",
        "def extract_theorem(text):\n",
        "          extract = re.findall(r\"(theorem.*?:.*?(?=by |using |proof|sorry))[\\s]*\", text, re.DOTALL)[0].strip()\n",
        "          assert extract != ''\n",
        "          return extract\n",
        "\n",
        "def extract_header(text):\n",
        "          extract = re.findall(r\"(.*?)theorem.*?\", text, re.DOTALL)[0]\n",
        "          assert extract != ''\n",
        "          return extract\"\"\""
      ]
    },
    {
      "cell_type": "code",
      "source": [
        "\"\"\"\n",
        "def extract_proof(text):\n",
        "          extract = re.findall(r\"(^(proof|using|sorry|by).*?end)\", text, re.DOTALL | re.MULTILINE)[0]\n",
        "          assert extract != ''\n",
        "          return extract\n",
        "\"\"\""
      ],
      "metadata": {
        "id": "aFDpyXIxscgQ"
      },
      "execution_count": null,
      "outputs": []
    },
    {
      "cell_type": "code",
      "source": [
        "def extract(vf_path,valid_dic):\n",
        "  for file in os.listdir(vf_path):\n",
        "    f_path=os.path.join(vf_path,file)\n",
        "    data={}\n",
        "    with open(f_path, 'r') as file:\n",
        "      data = json.load(file)\n",
        "    valid_dic[data['problem_name']]={\"natural_s\":data[\"informal_statement\"],\"natural_p\":data[\"informal_proof\"]}\n",
        "  return valid_dic\n"
      ],
      "metadata": {
        "id": "DqHXS_h_IT8G"
      },
      "execution_count": 90,
      "outputs": []
    },
    {
      "cell_type": "code",
      "source": [
        "vf_path=\"/content/miniF2F-main/informal/valid\"\n",
        "tf_path=\"/content/miniF2F-main/informal/test\"\n",
        "valid_dic=extract(vf_path,{})\n",
        "test_dic=extract(tf_path,{})"
      ],
      "metadata": {
        "id": "whN3UpDcK29w"
      },
      "execution_count": 139,
      "outputs": []
    },
    {
      "cell_type": "code",
      "source": [
        "def extract_theorem(text):\n",
        "          extract = re.findall(r\"(theorem).*?(:.*?(?=by |using |proof|sorry))[\\s]*\", text, re.DOTALL)[0]\n",
        "          assert extract != ''\n",
        "          return extract"
      ],
      "metadata": {
        "id": "dRFLPxVrMPv-"
      },
      "execution_count": 140,
      "outputs": []
    },
    {
      "cell_type": "code",
      "source": [
        "def get_formal(path,dic):\n",
        "  for file in os.listdir(path):\n",
        "    name=file.split(\".\")[0]\n",
        "    if name in dic:\n",
        "      f = open(os.path.join(path,file), \"r\")\n",
        "      text=f.read()\n",
        "      f.close()\n",
        "      li=list(extract_theorem(text))\n",
        "      string=\"\"\n",
        "      for i in li:\n",
        "        string+=i\n",
        "      dic[name][\"formal_s\"]=string\n",
        "    else:\n",
        "      print(name)\n",
        "  return dic\n",
        ""
      ],
      "metadata": {
        "id": "-ijHFRzoK4Vs"
      },
      "execution_count": 141,
      "outputs": []
    },
    {
      "cell_type": "code",
      "source": [
        "i_vf_path=\"/content/miniF2F-main/isabelle/valid\"\n",
        "i_tf_path=\"/content/miniF2F-main/isabelle/test\"\n",
        "valid_dic=get_formal(i_vf_path,valid_dic)\n",
        "test_dic=get_formal(i_tf_path,test_dic)"
      ],
      "metadata": {
        "id": "gudlnCw8oTJE"
      },
      "execution_count": 142,
      "outputs": []
    },
    {
      "cell_type": "code",
      "source": [
        "with open('test_data.json', 'w') as fp:\n",
        "    json.dump(test_dic, fp)"
      ],
      "metadata": {
        "id": "rwhCPoCUrXG3"
      },
      "execution_count": 144,
      "outputs": []
    },
    {
      "cell_type": "code",
      "source": [
        "with open('valid_data.json', 'w') as fp:\n",
        "    json.dump(valid_dic, fp)"
      ],
      "metadata": {
        "id": "BBJbGEYwr7HT"
      },
      "execution_count": 145,
      "outputs": []
    }
  ]
}